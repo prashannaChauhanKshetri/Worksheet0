{
  "nbformat": 4,
  "nbformat_minor": 0,
  "metadata": {
    "colab": {
      "provenance": []
    },
    "kernelspec": {
      "name": "python3",
      "display_name": "Python 3"
    },
    "language_info": {
      "name": "python"
    }
  },
  "cells": [
    {
      "cell_type": "markdown",
      "source": [
        "PART-1"
      ],
      "metadata": {
        "id": "FFFLZcarcClj"
      }
    },
    {
      "cell_type": "code",
      "execution_count": 1,
      "metadata": {
        "id": "QPDptJYMZc1t"
      },
      "outputs": [],
      "source": [
        "\n",
        "# import matplotlib.pyplot as plt\n",
        "temperatures = [8.2, 17.4, 14.1, 7.9, 18.0, 13.5, 9.0, 17.8, 13.0, 8.5,\n",
        "16.5, 12.9, 7.7, 17.2, 13.3, 8.4, 16.7, 14.0, 9.5, 18.3, 13.4, 8.1,\n",
        "17.9, 14.2, 7.6, 17.0, 12.8, 8.0, 16.8, 13.7, 7.8, 17.5, 13.6, 8.7,\n",
        "17.1, 13.8, 9.2, 18.1, 13.9, 8.3, 16.4, 12.7, 8.9, 18.2, 13.1, 7.8,\n",
        "16.6, 12.5]\n",
        "\n",
        "cold = []\n",
        "mild =[]\n",
        "comfortable=[]\n",
        "\n",
        "coldcount = 0\n",
        "mildcount=0\n",
        "countcomfortable=0\n",
        "\n",
        "temperatures_fahrenheit=[]\n",
        "\n",
        "night=[]\n",
        "day=[]\n",
        "evening=[]\n",
        "\n",
        "avg_temp = 0\n",
        "\n",
        "\n",
        "for i in temperatures:\n",
        "    fahrenheit = int((i*(9/5))+32)\n",
        "    temperatures_fahrenheit.append(fahrenheit)\n",
        "    if i<10:\n",
        "        coldcount+=1\n",
        "        cold.append(i)\n",
        "    if i>=10 and i<=15:\n",
        "        mildcount+=1\n",
        "        mild.append(i)\n",
        "    if i>=15 and i<=20:\n",
        "        countcomfortable+=1\n",
        "        comfortable.append(i)"
      ]
    },
    {
      "cell_type": "code",
      "source": [
        "print('''Question 1''')\n",
        "print(\"The cold temperature list\",cold)\n",
        "print()\n",
        "print(\"The mild temperature list\",mild)\n",
        "print()\n",
        "print(\"The comfortable temperature list\",comfortable)\n",
        "print()"
      ],
      "metadata": {
        "colab": {
          "base_uri": "https://localhost:8080/"
        },
        "id": "XeE7lvaxZiqY",
        "outputId": "4b13e3d6-46e9-4071-b418-6f4fa644ab6d"
      },
      "execution_count": 7,
      "outputs": [
        {
          "output_type": "stream",
          "name": "stdout",
          "text": [
            "Question 1\n",
            "The cold temperature list [8.2, 7.9, 9.0, 8.5, 7.7, 8.4, 9.5, 8.1, 7.6, 8.0, 7.8, 8.7, 9.2, 8.3, 8.9, 7.8]\n",
            "\n",
            "The mild temperature list [14.1, 13.5, 13.0, 12.9, 13.3, 14.0, 13.4, 14.2, 12.8, 13.7, 13.6, 13.8, 13.9, 12.7, 13.1, 12.5]\n",
            "\n",
            "The comfortable temperature list [17.4, 18.0, 17.8, 16.5, 17.2, 16.7, 18.3, 17.9, 17.0, 16.8, 17.5, 17.1, 18.1, 16.4, 18.2, 16.6]\n",
            "\n"
          ]
        }
      ]
    },
    {
      "cell_type": "code",
      "source": [
        "print('''Question-2''')\n",
        "print(\"The count for cold\",coldcount)\n",
        "print(\"The count for mild\",mildcount)\n",
        "print(\"The count for comfortable\",countcomfortable)\n",
        "print()"
      ],
      "metadata": {
        "colab": {
          "base_uri": "https://localhost:8080/"
        },
        "id": "ViqR6Om7Zqyx",
        "outputId": "96f66d7d-3ebb-4563-f38f-498faec1135d"
      },
      "execution_count": 8,
      "outputs": [
        {
          "output_type": "stream",
          "name": "stdout",
          "text": [
            "Question-2\n",
            "The count for cold 16\n",
            "The count for mild 16\n",
            "The count for comfortable 16\n",
            "\n"
          ]
        }
      ]
    },
    {
      "cell_type": "code",
      "source": [
        "print('''Question-3''')\n",
        "print(\"the converted temperature are\",temperatures_fahrenheit)"
      ],
      "metadata": {
        "colab": {
          "base_uri": "https://localhost:8080/"
        },
        "id": "_zkgC8ZyZunf",
        "outputId": "8485270d-a1bb-4c59-c385-44490da36b9f"
      },
      "execution_count": 10,
      "outputs": [
        {
          "output_type": "stream",
          "name": "stdout",
          "text": [
            "Question-3\n",
            "the converted temperature are [46, 63, 57, 46, 64, 56, 48, 64, 55, 47, 61, 55, 45, 62, 55, 47, 62, 57, 49, 64, 56, 46, 64, 57, 45, 62, 55, 46, 62, 56, 46, 63, 56, 47, 62, 56, 48, 64, 57, 46, 61, 54, 48, 64, 55, 46, 61, 54]\n"
          ]
        }
      ]
    },
    {
      "cell_type": "code",
      "source": [
        "for p in temperatures:\n",
        "    if p >=0 and p<=8:\n",
        "        night.append(p)\n",
        "    if p>=8 and p<=16:\n",
        "        evening.append(p)\n",
        "    if p>=16 and p<=24:\n",
        "        day.append(p)\n",
        "print('')\n",
        "print(\"Question-4\")\n",
        "print(\"Temperature of night\",night)\n",
        "print(\"Temperature of evening\",evening)\n",
        "print(\"Temperarure of day\",day)"
      ],
      "metadata": {
        "colab": {
          "base_uri": "https://localhost:8080/"
        },
        "id": "M0DW7nWlZ2pR",
        "outputId": "88be2fb2-e9b1-4f01-eae0-8ed619e6e213"
      },
      "execution_count": 9,
      "outputs": [
        {
          "output_type": "stream",
          "name": "stdout",
          "text": [
            "\n",
            "Question-4\n",
            "Temperature of night [7.9, 7.7, 7.6, 8.0, 7.8, 7.8, 7.9, 7.7, 7.6, 8.0, 7.8, 7.8]\n",
            "Temperature of evening [8.2, 14.1, 13.5, 9.0, 13.0, 8.5, 12.9, 13.3, 8.4, 14.0, 9.5, 13.4, 8.1, 14.2, 12.8, 8.0, 13.7, 13.6, 8.7, 13.8, 9.2, 13.9, 8.3, 12.7, 8.9, 13.1, 12.5, 8.2, 14.1, 13.5, 9.0, 13.0, 8.5, 12.9, 13.3, 8.4, 14.0, 9.5, 13.4, 8.1, 14.2, 12.8, 8.0, 13.7, 13.6, 8.7, 13.8, 9.2, 13.9, 8.3, 12.7, 8.9, 13.1, 12.5]\n",
            "Temperarure of day [17.4, 18.0, 17.8, 16.5, 17.2, 16.7, 18.3, 17.9, 17.0, 16.8, 17.5, 17.1, 18.1, 16.4, 18.2, 16.6, 17.4, 18.0, 17.8, 16.5, 17.2, 16.7, 18.3, 17.9, 17.0, 16.8, 17.5, 17.1, 18.1, 16.4, 18.2, 16.6]\n"
          ]
        }
      ]
    },
    {
      "cell_type": "code",
      "source": [
        "print(\"Question-5\")\n",
        "for i in day:\n",
        "    avg_temp+=i\n",
        "\n",
        "\n",
        "print(\"the average temp of day\",((avg_temp)/len(day)))"
      ],
      "metadata": {
        "colab": {
          "base_uri": "https://localhost:8080/"
        },
        "id": "BtVedPhzZ8rT",
        "outputId": "36690bf7-24f0-4bf2-fbf0-241b43e4d443"
      },
      "execution_count": 11,
      "outputs": [
        {
          "output_type": "stream",
          "name": "stdout",
          "text": [
            "Question-5\n",
            "the average temp of day 26.015625000000004\n"
          ]
        }
      ]
    },
    {
      "cell_type": "markdown",
      "source": [
        "PART-2"
      ],
      "metadata": {
        "id": "cyhbbYFEbxD2"
      }
    },
    {
      "cell_type": "code",
      "source": [
        "def sum_nested_list(nested_list):\n",
        "\n",
        "    total = 0\n",
        "    for element in nested_list:\n",
        "        if isinstance(element, list): # Check if the element is a list\n",
        "            total += sum_nested_list(element) # Recursively sum the nested list\n",
        "        else:\n",
        "            total += element # Add the number to the total\n",
        "    return total\n",
        "print(sum_nested_list([1, [2, [3, 4], 5], 6, [7,8]]))"
      ],
      "metadata": {
        "colab": {
          "base_uri": "https://localhost:8080/"
        },
        "id": "jXZko-r7b0EN",
        "outputId": "ef2b9dc9-7990-4893-c3c8-b852505b6430"
      },
      "execution_count": 13,
      "outputs": [
        {
          "output_type": "stream",
          "name": "stdout",
          "text": [
            "36\n"
          ]
        }
      ]
    },
    {
      "cell_type": "code",
      "source": [
        "def generate_permutations(s):\n",
        "    if len(s) <= 1:\n",
        "        return [s]\n",
        "    permutations = []\n",
        "    for i, char in enumerate(s):\n",
        "        remaining = s[:i] + s[i+1:]\n",
        "        for perm in generate_permutations(remaining):\n",
        "            new_permutation = char + perm\n",
        "            if new_permutation not in permutations:\n",
        "                permutations.append(new_permutation)\n",
        "    return permutations\n",
        "print(\"Permutations of 'abc':\", generate_permutations(\"abc\"))\n",
        "\n"
      ],
      "metadata": {
        "colab": {
          "base_uri": "https://localhost:8080/"
        },
        "id": "ZQdQy3jcb14S",
        "outputId": "ff50d151-d413-433f-f1f3-a2205f8f418d"
      },
      "execution_count": 14,
      "outputs": [
        {
          "output_type": "stream",
          "name": "stdout",
          "text": [
            "Permutations of 'abc': ['abc', 'acb', 'bac', 'bca', 'cab', 'cba']\n"
          ]
        }
      ]
    },
    {
      "cell_type": "code",
      "source": [
        "\n",
        "def calculate_directory_size(directory):\n",
        "    size=0\n",
        "    for key , value in directory.items():\n",
        "        if isinstance(value, dict):\n",
        "            size += calculate_directory_size(value)\n",
        "        else:\n",
        "            size += value\n",
        "    return size\n",
        "\n",
        "directory_structure = {\n",
        "\"file1.txt\": 200,\n",
        "\"file2.txt\": 300,\n",
        "\"subdir1\": {\n",
        "\"file3.txt\": 400,\n",
        "\"file4.txt\": 100\n",
        "},\n",
        "\"subdir2\": {\n",
        "\"subsubdir1\": {\n",
        "\"file5.txt\": 250\n",
        "},\n",
        "\"file6.txt\": 150\n",
        "}\n",
        "}\n",
        "\n",
        "size = calculate_directory_size(directory_structure)\n",
        "print(f\"Total size of the directory is {size} KB.\")\n",
        "\n"
      ],
      "metadata": {
        "colab": {
          "base_uri": "https://localhost:8080/"
        },
        "id": "lqtFUQs9b4YZ",
        "outputId": "b119be15-826b-420f-af7e-6e8a36e3416b"
      },
      "execution_count": 15,
      "outputs": [
        {
          "output_type": "stream",
          "name": "stdout",
          "text": [
            "Total size of the directory is 1400 KB.\n"
          ]
        }
      ]
    },
    {
      "cell_type": "markdown",
      "source": [
        "PART-3"
      ],
      "metadata": {
        "id": "4mU-MFobcNwy"
      }
    },
    {
      "cell_type": "markdown",
      "source": [
        "Task-1"
      ],
      "metadata": {
        "id": "RMmoxXOFe0GS"
      }
    },
    {
      "cell_type": "code",
      "source": [
        "def min_coins(coin_values, target_amount):\n",
        "\n",
        "    min_coins_required = [float(\"inf\")] * (target_amount + 1)\n",
        "    min_coins_required[0] = 0\n",
        "\n",
        "\n",
        "    for coin in coin_values:\n",
        "\n",
        "        for current_amount in range(coin, target_amount + 1):\n",
        "            min_coins_required[current_amount] = min(\n",
        "                min_coins_required[current_amount],\n",
        "                min_coins_required[current_amount - coin] + 1\n",
        "            )\n",
        "\n",
        "\n",
        "    return min_coins_required[target_amount] if min_coins_required[target_amount] != float(\"inf\") else -1\n",
        "\n",
        "# Test the function\n",
        "print(\"Minimum coins needed:\", min_coins([1, 2, 5], 11))"
      ],
      "metadata": {
        "colab": {
          "base_uri": "https://localhost:8080/"
        },
        "id": "xmw4LZlSb7NP",
        "outputId": "fbcb3ef4-fa2f-4ea1-a0c5-441e6c9f2508"
      },
      "execution_count": 22,
      "outputs": [
        {
          "output_type": "stream",
          "name": "stdout",
          "text": [
            "Minimum coins needed: 3\n"
          ]
        }
      ]
    },
    {
      "cell_type": "markdown",
      "source": [
        "Task-2"
      ],
      "metadata": {
        "id": "nE60K57Vfbfg"
      }
    },
    {
      "cell_type": "code",
      "source": [
        "def longest_common_subsequence(s1, s2):\n",
        "\n",
        "    len_s1 = len(s1)\n",
        "    len_s2 = len(s2)\n",
        "\n",
        "    dp_table = [[0] * (len_s2 + 1) for _ in range(2)]\n",
        "\n",
        "    for i in range(1, len_s1 + 1):\n",
        "        current = i % 2\n",
        "        previous = (i - 1) % 2\n",
        "\n",
        "        for j in range(1, len_s2 + 1):\n",
        "            if s1[i - 1] == s2[j - 1]:\n",
        "                dp_table[current][j] = dp_table[previous][j - 1] + 1\n",
        "            else:\n",
        "                dp_table[current][j] = max(dp_table[previous][j], dp_table[current][j - 1])\n",
        "\n",
        "    return dp_table[len_s1 % 2][len_s2]\n",
        "\n",
        "s1 = \"abcde\"\n",
        "s2 = \"ace\"\n",
        "print(f\"The length of the LCS is: {longest_common_subsequence(s1, s2)}\")"
      ],
      "metadata": {
        "colab": {
          "base_uri": "https://localhost:8080/"
        },
        "id": "5qbbWNB8fdoa",
        "outputId": "5a4c701e-3d79-410e-ed18-ed725ef67189"
      },
      "execution_count": 24,
      "outputs": [
        {
          "output_type": "stream",
          "name": "stdout",
          "text": [
            "The length of the LCS is: 3\n"
          ]
        }
      ]
    },
    {
      "cell_type": "markdown",
      "source": [
        "Task-3"
      ],
      "metadata": {
        "id": "59n0xdm8e3SR"
      }
    },
    {
      "cell_type": "code",
      "source": [
        "def knapsack(weights, values, capacity):\n",
        "    n = len(weights)\n",
        "\n",
        "    # Create a 2D DP table\n",
        "    dp = [[0] * (capacity + 1) for _ in range(n + 1)]\n",
        "\n",
        "    # Fill the DP table\n",
        "    for i in range(1, n + 1):\n",
        "        for w in range(capacity + 1):\n",
        "            if weights[i - 1] <= w:\n",
        "                dp[i][w] = max(dp[i - 1][w], dp[i - 1][w - weights[i - 1]] + values[i - 1])\n",
        "            else:\n",
        "                dp[i][w] = dp[i - 1][w]\n",
        "\n",
        "    return dp[n][capacity]\n",
        "\n",
        "\n",
        "weights = [1, 3, 4, 5]\n",
        "values = [1, 4, 5, 7]\n",
        "capacity = 7\n",
        "print(f\"Maximum value in knapsack: {knapsack(weights, values, capacity)}\")"
      ],
      "metadata": {
        "colab": {
          "base_uri": "https://localhost:8080/"
        },
        "id": "GpNQ_84vcQFL",
        "outputId": "e038c938-6f0c-4728-bf12-0dd99eca3100"
      },
      "execution_count": 25,
      "outputs": [
        {
          "output_type": "stream",
          "name": "stdout",
          "text": [
            "Maximum value in knapsack: 9\n"
          ]
        }
      ]
    },
    {
      "cell_type": "code",
      "source": [],
      "metadata": {
        "id": "tnuBTmTRfK6M"
      },
      "execution_count": null,
      "outputs": []
    }
  ]
}